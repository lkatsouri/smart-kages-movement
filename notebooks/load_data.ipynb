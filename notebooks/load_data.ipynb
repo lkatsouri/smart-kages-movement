{
 "cells": [
  {
   "cell_type": "markdown",
   "metadata": {},
   "source": [
    "# Load data from Smart-Kages\n",
    "Load data from the Smart-Kages folder structure."
   ]
  },
  {
   "cell_type": "code",
   "execution_count": 1,
   "metadata": {},
   "outputs": [],
   "source": [
    "from pathlib import Path\n",
    "\n",
    "from smart_kages_movement.io import parse_data_into_df"
   ]
  },
  {
   "cell_type": "markdown",
   "metadata": {},
   "source": [
    "## Summarise data into a single dataframe\n",
    "\n",
    "First let's define the path to the folder containing all the data."
   ]
  },
  {
   "cell_type": "code",
   "execution_count": 2,
   "metadata": {},
   "outputs": [],
   "source": [
    "data_dir = Path.home() / \"Data\" / \"Smart-Kages\"\n",
    "assert data_dir.exists(), f\"Data directory {data_dir} does not exist.\""
   ]
  },
  {
   "cell_type": "markdown",
   "metadata": {},
   "source": [
    "The data is stored per Smart-Kage, in folders names as `kageN`, e.g. `kage1`, `kage2`, etc.\n",
    "\n",
    "Each Smart-Kage folder contains:\n",
    "- daily videos are stored in `videos/YYYY/MM/DD/`, split into 1-hour segments. Each 1-hour segment is an `.mp4` file named `kageN_YYYYMMDD_HHMMSS.mp4`.\n",
    "- corresponding DeepLabCut (DLC) predictions are stored in `analysis/dlc_output/YYYY/MM/DD/`. Each 1-hour `.h5` file therein is prefixed with `kageN_YYYYMMDD_HHMMSS`.\n",
    "\n",
    "Let's parse the relevant parts of the data structure into a single dataframe."
   ]
  },
  {
   "cell_type": "code",
   "execution_count": 3,
   "metadata": {},
   "outputs": [
    {
     "name": "stdout",
     "output_type": "stream",
     "text": [
      "Found 2 kage directories:  kage1 kage3\n",
      "Found a total of 1615 .h5 pose files output by DLC.\n"
     ]
    }
   ],
   "source": [
    "df = parse_data_into_df(data_dir)"
   ]
  },
  {
   "cell_type": "code",
   "execution_count": 4,
   "metadata": {},
   "outputs": [
    {
     "data": {
      "text/html": [
       "<div>\n",
       "<style scoped>\n",
       "    .dataframe tbody tr th:only-of-type {\n",
       "        vertical-align: middle;\n",
       "    }\n",
       "\n",
       "    .dataframe tbody tr th {\n",
       "        vertical-align: top;\n",
       "    }\n",
       "\n",
       "    .dataframe thead th {\n",
       "        text-align: right;\n",
       "    }\n",
       "</style>\n",
       "<table border=\"1\" class=\"dataframe\">\n",
       "  <thead>\n",
       "    <tr style=\"text-align: right;\">\n",
       "      <th></th>\n",
       "      <th></th>\n",
       "      <th>date</th>\n",
       "      <th>time</th>\n",
       "      <th>pose_file_path</th>\n",
       "      <th>video_exists</th>\n",
       "      <th>video_file_path</th>\n",
       "    </tr>\n",
       "    <tr>\n",
       "      <th>kage</th>\n",
       "      <th>datetime</th>\n",
       "      <th></th>\n",
       "      <th></th>\n",
       "      <th></th>\n",
       "      <th></th>\n",
       "      <th></th>\n",
       "    </tr>\n",
       "  </thead>\n",
       "  <tbody>\n",
       "    <tr>\n",
       "      <th rowspan=\"5\" valign=\"top\">kage1</th>\n",
       "      <th>2024-04-03 09:54:20</th>\n",
       "      <td>20240403</td>\n",
       "      <td>095420</td>\n",
       "      <td>/Users/nsirmpilatze/Data/Smart-Kages/kage1/ana...</td>\n",
       "      <td>True</td>\n",
       "      <td>/Users/nsirmpilatze/Data/Smart-Kages/kage1/vid...</td>\n",
       "    </tr>\n",
       "    <tr>\n",
       "      <th>2024-04-03 10:00:02</th>\n",
       "      <td>20240403</td>\n",
       "      <td>100002</td>\n",
       "      <td>/Users/nsirmpilatze/Data/Smart-Kages/kage1/ana...</td>\n",
       "      <td>True</td>\n",
       "      <td>/Users/nsirmpilatze/Data/Smart-Kages/kage1/vid...</td>\n",
       "    </tr>\n",
       "    <tr>\n",
       "      <th>2024-04-03 11:01:03</th>\n",
       "      <td>20240403</td>\n",
       "      <td>110103</td>\n",
       "      <td>/Users/nsirmpilatze/Data/Smart-Kages/kage1/ana...</td>\n",
       "      <td>True</td>\n",
       "      <td>/Users/nsirmpilatze/Data/Smart-Kages/kage1/vid...</td>\n",
       "    </tr>\n",
       "    <tr>\n",
       "      <th>2024-04-03 12:01:04</th>\n",
       "      <td>20240403</td>\n",
       "      <td>120104</td>\n",
       "      <td>/Users/nsirmpilatze/Data/Smart-Kages/kage1/ana...</td>\n",
       "      <td>True</td>\n",
       "      <td>/Users/nsirmpilatze/Data/Smart-Kages/kage1/vid...</td>\n",
       "    </tr>\n",
       "    <tr>\n",
       "      <th>2024-04-03 13:01:03</th>\n",
       "      <td>20240403</td>\n",
       "      <td>130103</td>\n",
       "      <td>/Users/nsirmpilatze/Data/Smart-Kages/kage1/ana...</td>\n",
       "      <td>True</td>\n",
       "      <td>/Users/nsirmpilatze/Data/Smart-Kages/kage1/vid...</td>\n",
       "    </tr>\n",
       "  </tbody>\n",
       "</table>\n",
       "</div>"
      ],
      "text/plain": [
       "                               date    time  \\\n",
       "kage  datetime                                \n",
       "kage1 2024-04-03 09:54:20  20240403  095420   \n",
       "      2024-04-03 10:00:02  20240403  100002   \n",
       "      2024-04-03 11:01:03  20240403  110103   \n",
       "      2024-04-03 12:01:04  20240403  120104   \n",
       "      2024-04-03 13:01:03  20240403  130103   \n",
       "\n",
       "                                                              pose_file_path  \\\n",
       "kage  datetime                                                                 \n",
       "kage1 2024-04-03 09:54:20  /Users/nsirmpilatze/Data/Smart-Kages/kage1/ana...   \n",
       "      2024-04-03 10:00:02  /Users/nsirmpilatze/Data/Smart-Kages/kage1/ana...   \n",
       "      2024-04-03 11:01:03  /Users/nsirmpilatze/Data/Smart-Kages/kage1/ana...   \n",
       "      2024-04-03 12:01:04  /Users/nsirmpilatze/Data/Smart-Kages/kage1/ana...   \n",
       "      2024-04-03 13:01:03  /Users/nsirmpilatze/Data/Smart-Kages/kage1/ana...   \n",
       "\n",
       "                           video_exists  \\\n",
       "kage  datetime                            \n",
       "kage1 2024-04-03 09:54:20          True   \n",
       "      2024-04-03 10:00:02          True   \n",
       "      2024-04-03 11:01:03          True   \n",
       "      2024-04-03 12:01:04          True   \n",
       "      2024-04-03 13:01:03          True   \n",
       "\n",
       "                                                             video_file_path  \n",
       "kage  datetime                                                                \n",
       "kage1 2024-04-03 09:54:20  /Users/nsirmpilatze/Data/Smart-Kages/kage1/vid...  \n",
       "      2024-04-03 10:00:02  /Users/nsirmpilatze/Data/Smart-Kages/kage1/vid...  \n",
       "      2024-04-03 11:01:03  /Users/nsirmpilatze/Data/Smart-Kages/kage1/vid...  \n",
       "      2024-04-03 12:01:04  /Users/nsirmpilatze/Data/Smart-Kages/kage1/vid...  \n",
       "      2024-04-03 13:01:03  /Users/nsirmpilatze/Data/Smart-Kages/kage1/vid...  "
      ]
     },
     "execution_count": 4,
     "metadata": {},
     "output_type": "execute_result"
    }
   ],
   "source": [
    "df.head()"
   ]
  },
  {
   "cell_type": "code",
   "execution_count": null,
   "metadata": {},
   "outputs": [],
   "source": []
  }
 ],
 "metadata": {
  "kernelspec": {
   "display_name": "Python 3",
   "language": "python",
   "name": "python3"
  },
  "language_info": {
   "codemirror_mode": {
    "name": "ipython",
    "version": 3
   },
   "file_extension": ".py",
   "mimetype": "text/x-python",
   "name": "python",
   "nbconvert_exporter": "python",
   "pygments_lexer": "ipython3",
   "version": "3.13.3"
  }
 },
 "nbformat": 4,
 "nbformat_minor": 2
}
